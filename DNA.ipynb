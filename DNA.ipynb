{
 "cells": [
  {
   "cell_type": "markdown",
   "id": "4c82909e",
   "metadata": {},
   "source": [
    "### DNA : Counting DNA Neucleotides"
   ]
  }
 ],
 "metadata": {
  "language_info": {
   "name": "python"
  }
 },
 "nbformat": 4,
 "nbformat_minor": 5
}
